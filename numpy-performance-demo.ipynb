{
 "cells": [
  {
   "cell_type": "markdown",
   "id": "a2df55e5-cef3-471d-a3f3-8cd6f06cdef4",
   "metadata": {},
   "source": [
    "# NumPy Performance & Features Demo"
   ]
  },
  {
   "cell_type": "markdown",
   "id": "b0bd5bf9-abe4-4135-acb9-b94f92f1846a",
   "metadata": {},
   "source": [
    "This project compares Python lists vs NumPy arrays on:\n",
    "- **Performance (execution speed)**\n",
    "- **Memory usage**\n",
    "- **Vectorized operations vs loops**\n",
    "- **Broadcasting**\n",
    "- **Data visualization (matplotlib)**\n"
   ]
  },
  {
   "cell_type": "code",
   "execution_count": 1,
   "id": "e798fe87-dd56-4035-898c-d439deb5488e",
   "metadata": {},
   "outputs": [
    {
     "name": "stdout",
     "output_type": "stream",
     "text": [
      "Python list time: 0.2983 sec\n",
      "Python list memory: 80000056 bytes\n",
      "NumPy array time: 0.0191 sec\n",
      "NumPy array memory: 80000000 bytes\n",
      "\n",
      "Broadcasting Example:\n",
      "[[11 12 13]\n",
      " [21 22 23]\n",
      " [31 32 33]]\n",
      "Loop addition time: 0.1253 sec\n",
      "Vectorized addition time: 0.0010 sec\n"
     ]
    },
    {
     "data": {
      "image/png": "[encoded data removed]",
      "text/plain": [
       "<Figure size 640x480 with 1 Axes>"
      ]
     },
     "metadata": {},
     "output_type": "display_data"
    }
   ],
   "source": [
    "import numpy as np\n",
    "import time\n",
    "import sys\n",
    "import matplotlib.pyplot as plt\n",
    "\n",
    "# 1. Performance: Python List vs NumPy Array\n",
    "N = 10_000_000\n",
    "\n",
    "# Python list\n",
    "py_list = list(range(N))\n",
    "start = time.time()\n",
    "py_result = [x*2 for x in py_list]\n",
    "end = time.time()\n",
    "print(f\"Python list time: {end - start:.4f} sec\")\n",
    "print(f\"Python list memory: {sys.getsizeof(py_list)} bytes\")\n",
    "\n",
    "# NumPy array\n",
    "np_array = np.arange(N)\n",
    "start = time.time()\n",
    "np_result = np_array * 2\n",
    "end = time.time()\n",
    "print(f\"NumPy array time: {end - start:.4f} sec\")\n",
    "print(f\"NumPy array memory: {np_array.nbytes} bytes\")\n",
    "\n",
    "# 2. Broadcasting\n",
    "a = np.array([1, 2, 3])\n",
    "b = np.array([[10], [20], [30]])\n",
    "print(\"\\nBroadcasting Example:\")\n",
    "print(a + b)\n",
    "\n",
    "# 3. Vectorized operations vs loops\n",
    "x = np.random.rand(1_000_000)\n",
    "y = np.random.rand(1_000_000)\n",
    "\n",
    "start = time.time()\n",
    "res_loop = [x[i] + y[i] for i in range(len(x))]\n",
    "end = time.time()\n",
    "print(f\"Loop addition time: {end - start:.4f} sec\")\n",
    "\n",
    "start = time.time()\n",
    "res_vec = x + y\n",
    "end = time.time()\n",
    "print(f\"Vectorized addition time: {end - start:.4f} sec\")\n",
    "\n",
    "# 4. Visualization of results\n",
    "sizes = [sys.getsizeof(py_list), np_array.nbytes]\n",
    "labels = ['Python List', 'NumPy Array']\n",
    "\n",
    "plt.bar(labels, sizes, color=['skyblue','orange'])\n",
    "plt.title(\"Memory Usage Comparison\")\n",
    "plt.ylabel(\"Bytes\")\n",
    "plt.show()\n"
   ]
  },
  {
   "cell_type": "code",
   "execution_count": null,
   "id": "7bca29bb-40c8-46f5-9857-afa09fde8b8f",
   "metadata": {},
   "outputs": [],
   "source": []
  }
 ],
 "metadata": {
  "kernelspec": {
   "display_name": "Python [conda env:base] *",
   "language": "python",
   "name": "conda-base-py"
  },
  "language_info": {
   "codemirror_mode": {
    "name": "ipython",
    "version": 3
   },
   "file_extension": ".py",
   "mimetype": "text/x-python",
   "name": "python",
   "nbconvert_exporter": "python",
   "pygments_lexer": "ipython3",
   "version": "3.13.5"
  }
 },
 "nbformat": 4,
 "nbformat_minor": 5
}
